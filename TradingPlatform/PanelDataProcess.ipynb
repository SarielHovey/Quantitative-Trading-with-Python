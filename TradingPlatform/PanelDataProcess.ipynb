{
 "cells": [
  {
   "cell_type": "code",
   "execution_count": 19,
   "metadata": {},
   "outputs": [],
   "source": [
    "import pandas as pd"
   ]
  },
  {
   "cell_type": "code",
   "execution_count": 20,
   "metadata": {},
   "outputs": [],
   "source": [
    "DATA = pd.DataFrame()\n",
    "df_temp = pd.DataFrame()"
   ]
  },
  {
   "cell_type": "markdown",
   "metadata": {},
   "source": [
    "df_temp.loc[:,'Symbol'] = i 新建了一列值全为i,作用在原DataFrame"
   ]
  },
  {
   "cell_type": "code",
   "execution_count": 21,
   "metadata": {},
   "outputs": [],
   "source": [
    "for i in ['AAPL','AMD','AMZN','INTC','MSFT']:\n",
    "    df_temp = pd.read_csv(\"Z:/linshi/\" +i + \".csv\",encoding='ANSI',dtype={'Date':str})\n",
    "    df_temp.rename(columns={'Adj Close':'AdjClose'}, inplace=True)\n",
    "    df_temp.loc[:,'Symbol'] = i\n",
    "    DATA = DATA.append(df_temp)"
   ]
  },
  {
   "cell_type": "code",
   "execution_count": 22,
   "metadata": {},
   "outputs": [
    {
     "data": {
      "text/html": [
       "<div>\n",
       "<style scoped>\n",
       "    .dataframe tbody tr th:only-of-type {\n",
       "        vertical-align: middle;\n",
       "    }\n",
       "\n",
       "    .dataframe tbody tr th {\n",
       "        vertical-align: top;\n",
       "    }\n",
       "\n",
       "    .dataframe thead th {\n",
       "        text-align: right;\n",
       "    }\n",
       "</style>\n",
       "<table border=\"1\" class=\"dataframe\">\n",
       "  <thead>\n",
       "    <tr style=\"text-align: right;\">\n",
       "      <th></th>\n",
       "      <th>Date</th>\n",
       "      <th>Open</th>\n",
       "      <th>High</th>\n",
       "      <th>Low</th>\n",
       "      <th>Close</th>\n",
       "      <th>AdjClose</th>\n",
       "      <th>Volume</th>\n",
       "      <th>Symbol</th>\n",
       "    </tr>\n",
       "  </thead>\n",
       "  <tbody>\n",
       "    <tr>\n",
       "      <th>0</th>\n",
       "      <td>2009-06-24</td>\n",
       "      <td>19.345715</td>\n",
       "      <td>19.642857</td>\n",
       "      <td>19.265715</td>\n",
       "      <td>19.459999</td>\n",
       "      <td>12.926208</td>\n",
       "      <td>121381400</td>\n",
       "      <td>AAPL</td>\n",
       "    </tr>\n",
       "    <tr>\n",
       "      <th>1</th>\n",
       "      <td>2009-06-25</td>\n",
       "      <td>19.392857</td>\n",
       "      <td>20.028572</td>\n",
       "      <td>19.315714</td>\n",
       "      <td>19.980000</td>\n",
       "      <td>13.271618</td>\n",
       "      <td>147361900</td>\n",
       "      <td>AAPL</td>\n",
       "    </tr>\n",
       "    <tr>\n",
       "      <th>2</th>\n",
       "      <td>2009-06-26</td>\n",
       "      <td>19.969999</td>\n",
       "      <td>20.508572</td>\n",
       "      <td>19.962856</td>\n",
       "      <td>20.348572</td>\n",
       "      <td>13.516438</td>\n",
       "      <td>109846100</td>\n",
       "      <td>AAPL</td>\n",
       "    </tr>\n",
       "    <tr>\n",
       "      <th>3</th>\n",
       "      <td>2009-06-29</td>\n",
       "      <td>20.494286</td>\n",
       "      <td>20.564285</td>\n",
       "      <td>20.219999</td>\n",
       "      <td>20.281429</td>\n",
       "      <td>13.471839</td>\n",
       "      <td>141904000</td>\n",
       "      <td>AAPL</td>\n",
       "    </tr>\n",
       "    <tr>\n",
       "      <th>4</th>\n",
       "      <td>2009-06-30</td>\n",
       "      <td>20.368572</td>\n",
       "      <td>20.542856</td>\n",
       "      <td>20.257143</td>\n",
       "      <td>20.347143</td>\n",
       "      <td>13.515490</td>\n",
       "      <td>108556000</td>\n",
       "      <td>AAPL</td>\n",
       "    </tr>\n",
       "    <tr>\n",
       "      <th>5</th>\n",
       "      <td>2009-07-01</td>\n",
       "      <td>20.500000</td>\n",
       "      <td>20.665714</td>\n",
       "      <td>20.360001</td>\n",
       "      <td>20.404285</td>\n",
       "      <td>13.553450</td>\n",
       "      <td>103544700</td>\n",
       "      <td>AAPL</td>\n",
       "    </tr>\n",
       "  </tbody>\n",
       "</table>\n",
       "</div>"
      ],
      "text/plain": [
       "         Date       Open       High        Low      Close   AdjClose  \\\n",
       "0  2009-06-24  19.345715  19.642857  19.265715  19.459999  12.926208   \n",
       "1  2009-06-25  19.392857  20.028572  19.315714  19.980000  13.271618   \n",
       "2  2009-06-26  19.969999  20.508572  19.962856  20.348572  13.516438   \n",
       "3  2009-06-29  20.494286  20.564285  20.219999  20.281429  13.471839   \n",
       "4  2009-06-30  20.368572  20.542856  20.257143  20.347143  13.515490   \n",
       "5  2009-07-01  20.500000  20.665714  20.360001  20.404285  13.553450   \n",
       "\n",
       "      Volume Symbol  \n",
       "0  121381400   AAPL  \n",
       "1  147361900   AAPL  \n",
       "2  109846100   AAPL  \n",
       "3  141904000   AAPL  \n",
       "4  108556000   AAPL  \n",
       "5  103544700   AAPL  "
      ]
     },
     "execution_count": 22,
     "metadata": {},
     "output_type": "execute_result"
    }
   ],
   "source": [
    "DATA.head(6)"
   ]
  },
  {
   "cell_type": "code",
   "execution_count": 23,
   "metadata": {},
   "outputs": [],
   "source": [
    "del(df_temp)"
   ]
  },
  {
   "cell_type": "code",
   "execution_count": 24,
   "metadata": {},
   "outputs": [
    {
     "data": {
      "text/plain": [
       "12585"
      ]
     },
     "execution_count": 24,
     "metadata": {},
     "output_type": "execute_result"
    }
   ],
   "source": [
    "len(DATA.Symbol)"
   ]
  },
  {
   "cell_type": "markdown",
   "metadata": {},
   "source": [
    "使用DataFrame的pivot()方法对多维面板数据进行降维处理\n",
    "下例提取出AdjClose列"
   ]
  },
  {
   "cell_type": "code",
   "execution_count": 26,
   "metadata": {},
   "outputs": [],
   "source": [
    "DATA_AdjClose = DATA.pivot(index='Date', columns='Symbol', values='AdjClose')"
   ]
  },
  {
   "cell_type": "code",
   "execution_count": 29,
   "metadata": {},
   "outputs": [
    {
     "data": {
      "text/html": [
       "<div>\n",
       "<style scoped>\n",
       "    .dataframe tbody tr th:only-of-type {\n",
       "        vertical-align: middle;\n",
       "    }\n",
       "\n",
       "    .dataframe tbody tr th {\n",
       "        vertical-align: top;\n",
       "    }\n",
       "\n",
       "    .dataframe thead th {\n",
       "        text-align: right;\n",
       "    }\n",
       "</style>\n",
       "<table border=\"1\" class=\"dataframe\">\n",
       "  <thead>\n",
       "    <tr style=\"text-align: right;\">\n",
       "      <th>Symbol</th>\n",
       "      <th>AAPL</th>\n",
       "      <th>AMD</th>\n",
       "      <th>AMZN</th>\n",
       "      <th>INTC</th>\n",
       "      <th>MSFT</th>\n",
       "    </tr>\n",
       "    <tr>\n",
       "      <th>Date</th>\n",
       "      <th></th>\n",
       "      <th></th>\n",
       "      <th></th>\n",
       "      <th></th>\n",
       "      <th></th>\n",
       "    </tr>\n",
       "  </thead>\n",
       "  <tbody>\n",
       "    <tr>\n",
       "      <th>2009-06-24</th>\n",
       "      <td>12.926208</td>\n",
       "      <td>3.66</td>\n",
       "      <td>79.269997</td>\n",
       "      <td>11.787844</td>\n",
       "      <td>18.412434</td>\n",
       "    </tr>\n",
       "    <tr>\n",
       "      <th>2009-06-25</th>\n",
       "      <td>13.271618</td>\n",
       "      <td>3.64</td>\n",
       "      <td>82.199997</td>\n",
       "      <td>11.941595</td>\n",
       "      <td>18.663473</td>\n",
       "    </tr>\n",
       "    <tr>\n",
       "      <th>2009-06-26</th>\n",
       "      <td>13.516438</td>\n",
       "      <td>3.62</td>\n",
       "      <td>83.879997</td>\n",
       "      <td>11.926953</td>\n",
       "      <td>18.318287</td>\n",
       "    </tr>\n",
       "    <tr>\n",
       "      <th>2009-06-29</th>\n",
       "      <td>13.471839</td>\n",
       "      <td>3.72</td>\n",
       "      <td>83.029999</td>\n",
       "      <td>11.992844</td>\n",
       "      <td>18.718393</td>\n",
       "    </tr>\n",
       "    <tr>\n",
       "      <th>2009-06-30</th>\n",
       "      <td>13.515490</td>\n",
       "      <td>3.87</td>\n",
       "      <td>83.660004</td>\n",
       "      <td>12.117311</td>\n",
       "      <td>18.647781</td>\n",
       "    </tr>\n",
       "    <tr>\n",
       "      <th>2009-07-01</th>\n",
       "      <td>13.553450</td>\n",
       "      <td>3.91</td>\n",
       "      <td>81.599998</td>\n",
       "      <td>12.476073</td>\n",
       "      <td>18.859600</td>\n",
       "    </tr>\n",
       "    <tr>\n",
       "      <th>2009-07-02</th>\n",
       "      <td>13.286799</td>\n",
       "      <td>3.78</td>\n",
       "      <td>79.320000</td>\n",
       "      <td>12.241783</td>\n",
       "      <td>18.333988</td>\n",
       "    </tr>\n",
       "    <tr>\n",
       "      <th>2009-07-06</th>\n",
       "      <td>13.153001</td>\n",
       "      <td>3.55</td>\n",
       "      <td>78.099998</td>\n",
       "      <td>12.109994</td>\n",
       "      <td>18.200617</td>\n",
       "    </tr>\n",
       "    <tr>\n",
       "      <th>2009-07-07</th>\n",
       "      <td>12.848394</td>\n",
       "      <td>3.43</td>\n",
       "      <td>75.629997</td>\n",
       "      <td>11.897665</td>\n",
       "      <td>17.674995</td>\n",
       "    </tr>\n",
       "    <tr>\n",
       "      <th>2009-07-08</th>\n",
       "      <td>13.021102</td>\n",
       "      <td>3.36</td>\n",
       "      <td>77.360001</td>\n",
       "      <td>11.670693</td>\n",
       "      <td>17.698528</td>\n",
       "    </tr>\n",
       "  </tbody>\n",
       "</table>\n",
       "</div>"
      ],
      "text/plain": [
       "Symbol           AAPL   AMD       AMZN       INTC       MSFT\n",
       "Date                                                        \n",
       "2009-06-24  12.926208  3.66  79.269997  11.787844  18.412434\n",
       "2009-06-25  13.271618  3.64  82.199997  11.941595  18.663473\n",
       "2009-06-26  13.516438  3.62  83.879997  11.926953  18.318287\n",
       "2009-06-29  13.471839  3.72  83.029999  11.992844  18.718393\n",
       "2009-06-30  13.515490  3.87  83.660004  12.117311  18.647781\n",
       "2009-07-01  13.553450  3.91  81.599998  12.476073  18.859600\n",
       "2009-07-02  13.286799  3.78  79.320000  12.241783  18.333988\n",
       "2009-07-06  13.153001  3.55  78.099998  12.109994  18.200617\n",
       "2009-07-07  12.848394  3.43  75.629997  11.897665  17.674995\n",
       "2009-07-08  13.021102  3.36  77.360001  11.670693  17.698528"
      ]
     },
     "execution_count": 29,
     "metadata": {},
     "output_type": "execute_result"
    }
   ],
   "source": [
    "DATA_AdjClose.head(10)"
   ]
  },
  {
   "cell_type": "code",
   "execution_count": null,
   "metadata": {},
   "outputs": [],
   "source": []
  }
 ],
 "metadata": {
  "kernelspec": {
   "display_name": "Python 3",
   "language": "python",
   "name": "python3"
  },
  "language_info": {
   "codemirror_mode": {
    "name": "ipython",
    "version": 3
   },
   "file_extension": ".py",
   "mimetype": "text/x-python",
   "name": "python",
   "nbconvert_exporter": "python",
   "pygments_lexer": "ipython3",
   "version": "3.7.3"
  }
 },
 "nbformat": 4,
 "nbformat_minor": 2
}
