{
 "cells": [
  {
   "cell_type": "code",
   "execution_count": 2,
   "metadata": {},
   "outputs": [],
   "source": [
    "import tushare as ts\n",
    "import pandas as pd"
   ]
  },
  {
   "cell_type": "code",
   "execution_count": 3,
   "metadata": {},
   "outputs": [
    {
     "name": "stdout",
     "output_type": "stream",
     "text": [
      "1.2.39\n"
     ]
    }
   ],
   "source": [
    "print(ts.__version__)"
   ]
  },
  {
   "cell_type": "code",
   "execution_count": 4,
   "metadata": {},
   "outputs": [],
   "source": [
    "pro = ts.pro_api()"
   ]
  },
  {
   "cell_type": "markdown",
   "metadata": {},
   "source": [
    "Read HS300 components list"
   ]
  },
  {
   "cell_type": "code",
   "execution_count": 5,
   "metadata": {},
   "outputs": [],
   "source": [
    "df_temp = pd.read_csv(\"D:/R_Quant/StockData/HS300.csv\",encoding='UTF8',dtype={'IncludeDate':str, 'Ticker':str})"
   ]
  },
  {
   "cell_type": "code",
   "execution_count": 6,
   "metadata": {},
   "outputs": [
    {
     "data": {
      "text/html": [
       "<div>\n",
       "<style scoped>\n",
       "    .dataframe tbody tr th:only-of-type {\n",
       "        vertical-align: middle;\n",
       "    }\n",
       "\n",
       "    .dataframe tbody tr th {\n",
       "        vertical-align: top;\n",
       "    }\n",
       "\n",
       "    .dataframe thead th {\n",
       "        text-align: right;\n",
       "    }\n",
       "</style>\n",
       "<table border=\"1\" class=\"dataframe\">\n",
       "  <thead>\n",
       "    <tr style=\"text-align: right;\">\n",
       "      <th></th>\n",
       "      <th>Ticker</th>\n",
       "      <th>TickerName</th>\n",
       "      <th>IncludeDate</th>\n",
       "    </tr>\n",
       "  </thead>\n",
       "  <tbody>\n",
       "    <tr>\n",
       "      <th>0</th>\n",
       "      <td>000596</td>\n",
       "      <td>古井贡酒</td>\n",
       "      <td>2019/6/17</td>\n",
       "    </tr>\n",
       "    <tr>\n",
       "      <th>1</th>\n",
       "      <td>002939</td>\n",
       "      <td>长城证券</td>\n",
       "      <td>2019/6/17</td>\n",
       "    </tr>\n",
       "    <tr>\n",
       "      <th>2</th>\n",
       "      <td>002938</td>\n",
       "      <td>鹏鼎控股</td>\n",
       "      <td>2019/6/17</td>\n",
       "    </tr>\n",
       "    <tr>\n",
       "      <th>3</th>\n",
       "      <td>002739</td>\n",
       "      <td>万达电影</td>\n",
       "      <td>2019/6/17</td>\n",
       "    </tr>\n",
       "    <tr>\n",
       "      <th>4</th>\n",
       "      <td>002410</td>\n",
       "      <td>广联达</td>\n",
       "      <td>2019/6/17</td>\n",
       "    </tr>\n",
       "    <tr>\n",
       "      <th>5</th>\n",
       "      <td>002010</td>\n",
       "      <td>传化智联</td>\n",
       "      <td>2019/6/17</td>\n",
       "    </tr>\n",
       "  </tbody>\n",
       "</table>\n",
       "</div>"
      ],
      "text/plain": [
       "   Ticker TickerName IncludeDate\n",
       "0  000596       古井贡酒   2019/6/17\n",
       "1  002939       长城证券   2019/6/17\n",
       "2  002938       鹏鼎控股   2019/6/17\n",
       "3  002739       万达电影   2019/6/17\n",
       "4  002410        广联达   2019/6/17\n",
       "5  002010       传化智联   2019/6/17"
      ]
     },
     "execution_count": 6,
     "metadata": {},
     "output_type": "execute_result"
    }
   ],
   "source": [
    "df_temp.head(6)"
   ]
  },
  {
   "cell_type": "code",
   "execution_count": 7,
   "metadata": {},
   "outputs": [],
   "source": [
    "list300 = df_temp.Ticker.tolist()"
   ]
  },
  {
   "cell_type": "code",
   "execution_count": 8,
   "metadata": {},
   "outputs": [
    {
     "data": {
      "text/plain": [
       "300"
      ]
     },
     "execution_count": 8,
     "metadata": {},
     "output_type": "execute_result"
    }
   ],
   "source": [
    "len(list300)"
   ]
  },
  {
   "cell_type": "markdown",
   "metadata": {},
   "source": [
    "Add Suffix for query through API"
   ]
  },
  {
   "cell_type": "code",
   "execution_count": 9,
   "metadata": {},
   "outputs": [],
   "source": [
    "for i in range(0,300):\n",
    "    if list300[i][:2] == '00' or list300[i][:2] == '30':\n",
    "        list300[i] = list300[i] + '.SZ'\n",
    "    elif list300[i][:2] == '60':\n",
    "        list300[i] = list300[i] + '.SH'"
   ]
  },
  {
   "cell_type": "code",
   "execution_count": 30,
   "metadata": {},
   "outputs": [],
   "source": [
    "df = ts.pro_bar(ts_code='300033.SZ', adj='qfq', start_date='20180101', end_date='20190802')"
   ]
  },
  {
   "cell_type": "code",
   "execution_count": 20,
   "metadata": {},
   "outputs": [
    {
     "data": {
      "text/html": [
       "<div>\n",
       "<style scoped>\n",
       "    .dataframe tbody tr th:only-of-type {\n",
       "        vertical-align: middle;\n",
       "    }\n",
       "\n",
       "    .dataframe tbody tr th {\n",
       "        vertical-align: top;\n",
       "    }\n",
       "\n",
       "    .dataframe thead th {\n",
       "        text-align: right;\n",
       "    }\n",
       "</style>\n",
       "<table border=\"1\" class=\"dataframe\">\n",
       "  <thead>\n",
       "    <tr style=\"text-align: right;\">\n",
       "      <th></th>\n",
       "      <th>ts_code</th>\n",
       "      <th>trade_date</th>\n",
       "      <th>open</th>\n",
       "      <th>high</th>\n",
       "      <th>low</th>\n",
       "      <th>close</th>\n",
       "      <th>pre_close</th>\n",
       "      <th>change</th>\n",
       "      <th>pct_chg</th>\n",
       "      <th>vol</th>\n",
       "      <th>amount</th>\n",
       "    </tr>\n",
       "  </thead>\n",
       "  <tbody>\n",
       "    <tr>\n",
       "      <th>0</th>\n",
       "      <td>600388.SH</td>\n",
       "      <td>20190802</td>\n",
       "      <td>12.13</td>\n",
       "      <td>12.15</td>\n",
       "      <td>11.70</td>\n",
       "      <td>11.80</td>\n",
       "      <td>12.25</td>\n",
       "      <td>-0.45</td>\n",
       "      <td>-3.6735</td>\n",
       "      <td>94778.77</td>\n",
       "      <td>112044.268</td>\n",
       "    </tr>\n",
       "    <tr>\n",
       "      <th>1</th>\n",
       "      <td>600388.SH</td>\n",
       "      <td>20190801</td>\n",
       "      <td>12.30</td>\n",
       "      <td>12.43</td>\n",
       "      <td>12.20</td>\n",
       "      <td>12.25</td>\n",
       "      <td>12.34</td>\n",
       "      <td>-0.09</td>\n",
       "      <td>-0.7293</td>\n",
       "      <td>46204.65</td>\n",
       "      <td>56679.607</td>\n",
       "    </tr>\n",
       "    <tr>\n",
       "      <th>2</th>\n",
       "      <td>600388.SH</td>\n",
       "      <td>20190731</td>\n",
       "      <td>12.35</td>\n",
       "      <td>12.43</td>\n",
       "      <td>12.30</td>\n",
       "      <td>12.34</td>\n",
       "      <td>12.44</td>\n",
       "      <td>-0.10</td>\n",
       "      <td>-0.8039</td>\n",
       "      <td>58999.66</td>\n",
       "      <td>72841.401</td>\n",
       "    </tr>\n",
       "    <tr>\n",
       "      <th>3</th>\n",
       "      <td>600388.SH</td>\n",
       "      <td>20190730</td>\n",
       "      <td>12.56</td>\n",
       "      <td>12.63</td>\n",
       "      <td>12.39</td>\n",
       "      <td>12.44</td>\n",
       "      <td>12.46</td>\n",
       "      <td>-0.02</td>\n",
       "      <td>-0.1605</td>\n",
       "      <td>58006.16</td>\n",
       "      <td>72508.853</td>\n",
       "    </tr>\n",
       "    <tr>\n",
       "      <th>4</th>\n",
       "      <td>600388.SH</td>\n",
       "      <td>20190729</td>\n",
       "      <td>12.61</td>\n",
       "      <td>12.75</td>\n",
       "      <td>12.39</td>\n",
       "      <td>12.46</td>\n",
       "      <td>12.60</td>\n",
       "      <td>-0.14</td>\n",
       "      <td>-1.1111</td>\n",
       "      <td>70665.20</td>\n",
       "      <td>88263.562</td>\n",
       "    </tr>\n",
       "    <tr>\n",
       "      <th>5</th>\n",
       "      <td>600388.SH</td>\n",
       "      <td>20190726</td>\n",
       "      <td>12.72</td>\n",
       "      <td>12.75</td>\n",
       "      <td>12.53</td>\n",
       "      <td>12.60</td>\n",
       "      <td>12.68</td>\n",
       "      <td>-0.08</td>\n",
       "      <td>-0.6309</td>\n",
       "      <td>80866.59</td>\n",
       "      <td>102001.816</td>\n",
       "    </tr>\n",
       "  </tbody>\n",
       "</table>\n",
       "</div>"
      ],
      "text/plain": [
       "     ts_code trade_date   open   high    low  close  pre_close  change  \\\n",
       "0  600388.SH   20190802  12.13  12.15  11.70  11.80      12.25   -0.45   \n",
       "1  600388.SH   20190801  12.30  12.43  12.20  12.25      12.34   -0.09   \n",
       "2  600388.SH   20190731  12.35  12.43  12.30  12.34      12.44   -0.10   \n",
       "3  600388.SH   20190730  12.56  12.63  12.39  12.44      12.46   -0.02   \n",
       "4  600388.SH   20190729  12.61  12.75  12.39  12.46      12.60   -0.14   \n",
       "5  600388.SH   20190726  12.72  12.75  12.53  12.60      12.68   -0.08   \n",
       "\n",
       "   pct_chg       vol      amount  \n",
       "0  -3.6735  94778.77  112044.268  \n",
       "1  -0.7293  46204.65   56679.607  \n",
       "2  -0.8039  58999.66   72841.401  \n",
       "3  -0.1605  58006.16   72508.853  \n",
       "4  -1.1111  70665.20   88263.562  \n",
       "5  -0.6309  80866.59  102001.816  "
      ]
     },
     "execution_count": 20,
     "metadata": {},
     "output_type": "execute_result"
    }
   ],
   "source": [
    "df.head(6)"
   ]
  },
  {
   "cell_type": "code",
   "execution_count": 10,
   "metadata": {},
   "outputs": [],
   "source": [
    "DATA = pd.DataFrame()"
   ]
  },
  {
   "cell_type": "code",
   "execution_count": 11,
   "metadata": {},
   "outputs": [],
   "source": [
    "for i in list300[:150]:\n",
    "    df_temp = ts.pro_bar(ts_code=i, adj='qfq', start_date='20100101', end_date='20190802')\n",
    "    DATA = DATA.append(df_temp)"
   ]
  },
  {
   "cell_type": "code",
   "execution_count": 13,
   "metadata": {},
   "outputs": [],
   "source": [
    "for i in list300[150:]:\n",
    "    df_temp = ts.pro_bar(ts_code=i, adj='qfq', start_date='20100101', end_date='20190802')\n",
    "    DATA = DATA.append(df_temp)"
   ]
  },
  {
   "cell_type": "code",
   "execution_count": 16,
   "metadata": {},
   "outputs": [
    {
     "data": {
      "text/html": [
       "<div>\n",
       "<style scoped>\n",
       "    .dataframe tbody tr th:only-of-type {\n",
       "        vertical-align: middle;\n",
       "    }\n",
       "\n",
       "    .dataframe tbody tr th {\n",
       "        vertical-align: top;\n",
       "    }\n",
       "\n",
       "    .dataframe thead th {\n",
       "        text-align: right;\n",
       "    }\n",
       "</style>\n",
       "<table border=\"1\" class=\"dataframe\">\n",
       "  <thead>\n",
       "    <tr style=\"text-align: right;\">\n",
       "      <th></th>\n",
       "      <th>ts_code</th>\n",
       "      <th>trade_date</th>\n",
       "      <th>open</th>\n",
       "      <th>high</th>\n",
       "      <th>low</th>\n",
       "      <th>close</th>\n",
       "      <th>pre_close</th>\n",
       "      <th>change</th>\n",
       "      <th>pct_chg</th>\n",
       "      <th>vol</th>\n",
       "      <th>amount</th>\n",
       "    </tr>\n",
       "  </thead>\n",
       "  <tbody>\n",
       "    <tr>\n",
       "      <th>0</th>\n",
       "      <td>000596.SZ</td>\n",
       "      <td>20190802</td>\n",
       "      <td>116.00</td>\n",
       "      <td>119.60</td>\n",
       "      <td>114.14</td>\n",
       "      <td>118.80</td>\n",
       "      <td>117.07</td>\n",
       "      <td>1.73</td>\n",
       "      <td>1.4777</td>\n",
       "      <td>31726.60</td>\n",
       "      <td>372159.800</td>\n",
       "    </tr>\n",
       "    <tr>\n",
       "      <th>1</th>\n",
       "      <td>000596.SZ</td>\n",
       "      <td>20190801</td>\n",
       "      <td>118.50</td>\n",
       "      <td>119.40</td>\n",
       "      <td>116.00</td>\n",
       "      <td>117.07</td>\n",
       "      <td>119.09</td>\n",
       "      <td>-2.02</td>\n",
       "      <td>-1.6962</td>\n",
       "      <td>15420.41</td>\n",
       "      <td>181651.180</td>\n",
       "    </tr>\n",
       "    <tr>\n",
       "      <th>2</th>\n",
       "      <td>000596.SZ</td>\n",
       "      <td>20190731</td>\n",
       "      <td>120.86</td>\n",
       "      <td>122.09</td>\n",
       "      <td>118.48</td>\n",
       "      <td>119.09</td>\n",
       "      <td>121.56</td>\n",
       "      <td>-2.47</td>\n",
       "      <td>-2.0319</td>\n",
       "      <td>17425.09</td>\n",
       "      <td>207961.913</td>\n",
       "    </tr>\n",
       "    <tr>\n",
       "      <th>3</th>\n",
       "      <td>000596.SZ</td>\n",
       "      <td>20190730</td>\n",
       "      <td>120.98</td>\n",
       "      <td>121.80</td>\n",
       "      <td>118.80</td>\n",
       "      <td>121.56</td>\n",
       "      <td>120.81</td>\n",
       "      <td>0.75</td>\n",
       "      <td>0.6208</td>\n",
       "      <td>18817.35</td>\n",
       "      <td>227440.587</td>\n",
       "    </tr>\n",
       "    <tr>\n",
       "      <th>4</th>\n",
       "      <td>000596.SZ</td>\n",
       "      <td>20190729</td>\n",
       "      <td>120.56</td>\n",
       "      <td>121.77</td>\n",
       "      <td>118.80</td>\n",
       "      <td>120.81</td>\n",
       "      <td>120.01</td>\n",
       "      <td>0.80</td>\n",
       "      <td>0.6666</td>\n",
       "      <td>22063.15</td>\n",
       "      <td>266217.713</td>\n",
       "    </tr>\n",
       "    <tr>\n",
       "      <th>5</th>\n",
       "      <td>000596.SZ</td>\n",
       "      <td>20190726</td>\n",
       "      <td>118.50</td>\n",
       "      <td>120.66</td>\n",
       "      <td>118.08</td>\n",
       "      <td>120.01</td>\n",
       "      <td>119.37</td>\n",
       "      <td>0.64</td>\n",
       "      <td>0.5361</td>\n",
       "      <td>14637.73</td>\n",
       "      <td>175162.116</td>\n",
       "    </tr>\n",
       "  </tbody>\n",
       "</table>\n",
       "</div>"
      ],
      "text/plain": [
       "     ts_code trade_date    open    high     low   close  pre_close  change  \\\n",
       "0  000596.SZ   20190802  116.00  119.60  114.14  118.80     117.07    1.73   \n",
       "1  000596.SZ   20190801  118.50  119.40  116.00  117.07     119.09   -2.02   \n",
       "2  000596.SZ   20190731  120.86  122.09  118.48  119.09     121.56   -2.47   \n",
       "3  000596.SZ   20190730  120.98  121.80  118.80  121.56     120.81    0.75   \n",
       "4  000596.SZ   20190729  120.56  121.77  118.80  120.81     120.01    0.80   \n",
       "5  000596.SZ   20190726  118.50  120.66  118.08  120.01     119.37    0.64   \n",
       "\n",
       "   pct_chg       vol      amount  \n",
       "0   1.4777  31726.60  372159.800  \n",
       "1  -1.6962  15420.41  181651.180  \n",
       "2  -2.0319  17425.09  207961.913  \n",
       "3   0.6208  18817.35  227440.587  \n",
       "4   0.6666  22063.15  266217.713  \n",
       "5   0.5361  14637.73  175162.116  "
      ]
     },
     "execution_count": 16,
     "metadata": {},
     "output_type": "execute_result"
    }
   ],
   "source": [
    "DATA.head(6)"
   ]
  },
  {
   "cell_type": "code",
   "execution_count": 20,
   "metadata": {},
   "outputs": [],
   "source": [
    "DATA.to_csv('DATA_HS300.csv')"
   ]
  },
  {
   "cell_type": "code",
   "execution_count": null,
   "metadata": {},
   "outputs": [],
   "source": []
  }
 ],
 "metadata": {
  "kernelspec": {
   "display_name": "Python 3",
   "language": "python",
   "name": "python3"
  },
  "language_info": {
   "codemirror_mode": {
    "name": "ipython",
    "version": 3
   },
   "file_extension": ".py",
   "mimetype": "text/x-python",
   "name": "python",
   "nbconvert_exporter": "python",
   "pygments_lexer": "ipython3",
   "version": "3.7.3"
  }
 },
 "nbformat": 4,
 "nbformat_minor": 2
}
