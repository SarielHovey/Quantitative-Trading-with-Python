{
 "cells": [
  {
   "cell_type": "code",
   "execution_count": 2,
   "metadata": {},
   "outputs": [],
   "source": [
    "import tushare as ts\n",
    "import pandas as pd"
   ]
  },
  {
   "cell_type": "code",
   "execution_count": 3,
   "metadata": {},
   "outputs": [
    {
     "name": "stdout",
     "output_type": "stream",
     "text": [
      "1.2.39\n"
     ]
    }
   ],
   "source": [
    "print(ts.__version__)"
   ]
  },
  {
   "cell_type": "code",
   "execution_count": 4,
   "metadata": {},
   "outputs": [],
   "source": [
    "pro = ts.pro_api()"
   ]
  },
  {
   "cell_type": "markdown",
   "metadata": {},
   "source": [
    "Read HS300 components list   \n",
    "Caution: This is not a dynamic list, so there will be Survivorship Bias in data!"
   ]
  },
  {
   "cell_type": "code",
   "execution_count": 5,
   "metadata": {},
   "outputs": [],
   "source": [
    "df_temp = pd.read_csv(\"D:/R_Quant/StockData/HS300.csv\",encoding='UTF8',dtype={'IncludeDate':str, 'Ticker':str})"
   ]
  },
  {
   "cell_type": "code",
   "execution_count": 6,
   "metadata": {},
   "outputs": [
    {
     "data": {
      "text/html": [
       "<div>\n",
       "<style scoped>\n",
       "    .dataframe tbody tr th:only-of-type {\n",
       "        vertical-align: middle;\n",
       "    }\n",
       "\n",
       "    .dataframe tbody tr th {\n",
       "        vertical-align: top;\n",
       "    }\n",
       "\n",
       "    .dataframe thead th {\n",
       "        text-align: right;\n",
       "    }\n",
       "</style>\n",
       "<table border=\"1\" class=\"dataframe\">\n",
       "  <thead>\n",
       "    <tr style=\"text-align: right;\">\n",
       "      <th></th>\n",
       "      <th>Ticker</th>\n",
       "      <th>TickerName</th>\n",
       "      <th>IncludeDate</th>\n",
       "    </tr>\n",
       "  </thead>\n",
       "  <tbody>\n",
       "    <tr>\n",
       "      <th>0</th>\n",
       "      <td>000596</td>\n",
       "      <td>古井贡酒</td>\n",
       "      <td>2019/6/17</td>\n",
       "    </tr>\n",
       "    <tr>\n",
       "      <th>1</th>\n",
       "      <td>002939</td>\n",
       "      <td>长城证券</td>\n",
       "      <td>2019/6/17</td>\n",
       "    </tr>\n",
       "    <tr>\n",
       "      <th>2</th>\n",
       "      <td>002938</td>\n",
       "      <td>鹏鼎控股</td>\n",
       "      <td>2019/6/17</td>\n",
       "    </tr>\n",
       "    <tr>\n",
       "      <th>3</th>\n",
       "      <td>002739</td>\n",
       "      <td>万达电影</td>\n",
       "      <td>2019/6/17</td>\n",
       "    </tr>\n",
       "    <tr>\n",
       "      <th>4</th>\n",
       "      <td>002410</td>\n",
       "      <td>广联达</td>\n",
       "      <td>2019/6/17</td>\n",
       "    </tr>\n",
       "    <tr>\n",
       "      <th>5</th>\n",
       "      <td>002010</td>\n",
       "      <td>传化智联</td>\n",
       "      <td>2019/6/17</td>\n",
       "    </tr>\n",
       "  </tbody>\n",
       "</table>\n",
       "</div>"
      ],
      "text/plain": [
       "   Ticker TickerName IncludeDate\n",
       "0  000596       古井贡酒   2019/6/17\n",
       "1  002939       长城证券   2019/6/17\n",
       "2  002938       鹏鼎控股   2019/6/17\n",
       "3  002739       万达电影   2019/6/17\n",
       "4  002410        广联达   2019/6/17\n",
       "5  002010       传化智联   2019/6/17"
      ]
     },
     "execution_count": 6,
     "metadata": {},
     "output_type": "execute_result"
    }
   ],
   "source": [
    "df_temp.head(6)"
   ]
  },
  {
   "cell_type": "code",
   "execution_count": 7,
   "metadata": {},
   "outputs": [],
   "source": [
    "list300 = df_temp.Ticker.tolist()"
   ]
  },
  {
   "cell_type": "code",
   "execution_count": 8,
   "metadata": {},
   "outputs": [
    {
     "data": {
      "text/plain": [
       "300"
      ]
     },
     "execution_count": 8,
     "metadata": {},
     "output_type": "execute_result"
    }
   ],
   "source": [
    "len(list300)"
   ]
  },
  {
   "cell_type": "markdown",
   "metadata": {},
   "source": [
    "Add Suffix for query through API"
   ]
  },
  {
   "cell_type": "code",
   "execution_count": 9,
   "metadata": {},
   "outputs": [],
   "source": [
    "for i in range(0,300):\n",
    "    if list300[i][:2] == '00' or list300[i][:2] == '30':\n",
    "        list300[i] = list300[i] + '.SZ'\n",
    "    elif list300[i][:2] == '60':\n",
    "        list300[i] = list300[i] + '.SH'"
   ]
  },
  {
   "cell_type": "code",
   "execution_count": 30,
   "metadata": {},
   "outputs": [],
   "source": [
    "df = ts.pro_bar(ts_code='300033.SZ', adj='qfq', start_date='20180101', end_date='20190802')"
   ]
  },
  {
   "cell_type": "code",
   "execution_count": 20,
   "metadata": {},
   "outputs": [
    {
     "data": {
      "text/html": [
       "<div>\n",
       "<style scoped>\n",
       "    .dataframe tbody tr th:only-of-type {\n",
       "        vertical-align: middle;\n",
       "    }\n",
       "\n",
       "    .dataframe tbody tr th {\n",
       "        vertical-align: top;\n",
       "    }\n",
       "\n",
       "    .dataframe thead th {\n",
       "        text-align: right;\n",
       "    }\n",
       "</style>\n",
       "<table border=\"1\" class=\"dataframe\">\n",
       "  <thead>\n",
       "    <tr style=\"text-align: right;\">\n",
       "      <th></th>\n",
       "      <th>ts_code</th>\n",
       "      <th>trade_date</th>\n",
       "      <th>open</th>\n",
       "      <th>high</th>\n",
       "      <th>low</th>\n",
       "      <th>close</th>\n",
       "      <th>pre_close</th>\n",
       "      <th>change</th>\n",
       "      <th>pct_chg</th>\n",
       "      <th>vol</th>\n",
       "      <th>amount</th>\n",
       "    </tr>\n",
       "  </thead>\n",
       "  <tbody>\n",
       "    <tr>\n",
       "      <th>0</th>\n",
       "      <td>600388.SH</td>\n",
       "      <td>20190802</td>\n",
       "      <td>12.13</td>\n",
       "      <td>12.15</td>\n",
       "      <td>11.70</td>\n",
       "      <td>11.80</td>\n",
       "      <td>12.25</td>\n",
       "      <td>-0.45</td>\n",
       "      <td>-3.6735</td>\n",
       "      <td>94778.77</td>\n",
       "      <td>112044.268</td>\n",
       "    </tr>\n",
       "    <tr>\n",
       "      <th>1</th>\n",
       "      <td>600388.SH</td>\n",
       "      <td>20190801</td>\n",
       "      <td>12.30</td>\n",
       "      <td>12.43</td>\n",
       "      <td>12.20</td>\n",
       "      <td>12.25</td>\n",
       "      <td>12.34</td>\n",
       "      <td>-0.09</td>\n",
       "      <td>-0.7293</td>\n",
       "      <td>46204.65</td>\n",
       "      <td>56679.607</td>\n",
       "    </tr>\n",
       "    <tr>\n",
       "      <th>2</th>\n",
       "      <td>600388.SH</td>\n",
       "      <td>20190731</td>\n",
       "      <td>12.35</td>\n",
       "      <td>12.43</td>\n",
       "      <td>12.30</td>\n",
       "      <td>12.34</td>\n",
       "      <td>12.44</td>\n",
       "      <td>-0.10</td>\n",
       "      <td>-0.8039</td>\n",
       "      <td>58999.66</td>\n",
       "      <td>72841.401</td>\n",
       "    </tr>\n",
       "    <tr>\n",
       "      <th>3</th>\n",
       "      <td>600388.SH</td>\n",
       "      <td>20190730</td>\n",
       "      <td>12.56</td>\n",
       "      <td>12.63</td>\n",
       "      <td>12.39</td>\n",
       "      <td>12.44</td>\n",
       "      <td>12.46</td>\n",
       "      <td>-0.02</td>\n",
       "      <td>-0.1605</td>\n",
       "      <td>58006.16</td>\n",
       "      <td>72508.853</td>\n",
       "    </tr>\n",
       "    <tr>\n",
       "      <th>4</th>\n",
       "      <td>600388.SH</td>\n",
       "      <td>20190729</td>\n",
       "      <td>12.61</td>\n",
       "      <td>12.75</td>\n",
       "      <td>12.39</td>\n",
       "      <td>12.46</td>\n",
       "      <td>12.60</td>\n",
       "      <td>-0.14</td>\n",
       "      <td>-1.1111</td>\n",
       "      <td>70665.20</td>\n",
       "      <td>88263.562</td>\n",
       "    </tr>\n",
       "    <tr>\n",
       "      <th>5</th>\n",
       "      <td>600388.SH</td>\n",
       "      <td>20190726</td>\n",
       "      <td>12.72</td>\n",
       "      <td>12.75</td>\n",
       "      <td>12.53</td>\n",
       "      <td>12.60</td>\n",
       "      <td>12.68</td>\n",
       "      <td>-0.08</td>\n",
       "      <td>-0.6309</td>\n",
       "      <td>80866.59</td>\n",
       "      <td>102001.816</td>\n",
       "    </tr>\n",
       "  </tbody>\n",
       "</table>\n",
       "</div>"
      ],
      "text/plain": [
       "     ts_code trade_date   open   high    low  close  pre_close  change  \\\n",
       "0  600388.SH   20190802  12.13  12.15  11.70  11.80      12.25   -0.45   \n",
       "1  600388.SH   20190801  12.30  12.43  12.20  12.25      12.34   -0.09   \n",
       "2  600388.SH   20190731  12.35  12.43  12.30  12.34      12.44   -0.10   \n",
       "3  600388.SH   20190730  12.56  12.63  12.39  12.44      12.46   -0.02   \n",
       "4  600388.SH   20190729  12.61  12.75  12.39  12.46      12.60   -0.14   \n",
       "5  600388.SH   20190726  12.72  12.75  12.53  12.60      12.68   -0.08   \n",
       "\n",
       "   pct_chg       vol      amount  \n",
       "0  -3.6735  94778.77  112044.268  \n",
       "1  -0.7293  46204.65   56679.607  \n",
       "2  -0.8039  58999.66   72841.401  \n",
       "3  -0.1605  58006.16   72508.853  \n",
       "4  -1.1111  70665.20   88263.562  \n",
       "5  -0.6309  80866.59  102001.816  "
      ]
     },
     "execution_count": 20,
     "metadata": {},
     "output_type": "execute_result"
    }
   ],
   "source": [
    "df.head(6)"
   ]
  },
  {
   "cell_type": "code",
   "execution_count": 10,
   "metadata": {},
   "outputs": [],
   "source": [
    "DATA = pd.DataFrame()"
   ]
  },
  {
   "cell_type": "code",
   "execution_count": 11,
   "metadata": {},
   "outputs": [],
   "source": [
    "for i in list300:\n",
    "    df_temp = ts.pro_bar(ts_code=i, adj='qfq', start_date='20100101', end_date='20190802')\n",
    "    DATA = DATA.append(df_temp)"
   ]
  },
  {
   "cell_type": "code",
   "execution_count": 16,
   "metadata": {},
   "outputs": [
    {
     "data": {
      "text/html": [
       "<div>\n",
       "<style scoped>\n",
       "    .dataframe tbody tr th:only-of-type {\n",
       "        vertical-align: middle;\n",
       "    }\n",
       "\n",
       "    .dataframe tbody tr th {\n",
       "        vertical-align: top;\n",
       "    }\n",
       "\n",
       "    .dataframe thead th {\n",
       "        text-align: right;\n",
       "    }\n",
       "</style>\n",
       "<table border=\"1\" class=\"dataframe\">\n",
       "  <thead>\n",
       "    <tr style=\"text-align: right;\">\n",
       "      <th></th>\n",
       "      <th>ts_code</th>\n",
       "      <th>trade_date</th>\n",
       "      <th>open</th>\n",
       "      <th>high</th>\n",
       "      <th>low</th>\n",
       "      <th>close</th>\n",
       "      <th>pre_close</th>\n",
       "      <th>change</th>\n",
       "      <th>pct_chg</th>\n",
       "      <th>vol</th>\n",
       "      <th>amount</th>\n",
       "    </tr>\n",
       "  </thead>\n",
       "  <tbody>\n",
       "    <tr>\n",
       "      <th>0</th>\n",
       "      <td>000596.SZ</td>\n",
       "      <td>20190802</td>\n",
       "      <td>116.00</td>\n",
       "      <td>119.60</td>\n",
       "      <td>114.14</td>\n",
       "      <td>118.80</td>\n",
       "      <td>117.07</td>\n",
       "      <td>1.73</td>\n",
       "      <td>1.4777</td>\n",
       "      <td>31726.60</td>\n",
       "      <td>372159.800</td>\n",
       "    </tr>\n",
       "    <tr>\n",
       "      <th>1</th>\n",
       "      <td>000596.SZ</td>\n",
       "      <td>20190801</td>\n",
       "      <td>118.50</td>\n",
       "      <td>119.40</td>\n",
       "      <td>116.00</td>\n",
       "      <td>117.07</td>\n",
       "      <td>119.09</td>\n",
       "      <td>-2.02</td>\n",
       "      <td>-1.6962</td>\n",
       "      <td>15420.41</td>\n",
       "      <td>181651.180</td>\n",
       "    </tr>\n",
       "    <tr>\n",
       "      <th>2</th>\n",
       "      <td>000596.SZ</td>\n",
       "      <td>20190731</td>\n",
       "      <td>120.86</td>\n",
       "      <td>122.09</td>\n",
       "      <td>118.48</td>\n",
       "      <td>119.09</td>\n",
       "      <td>121.56</td>\n",
       "      <td>-2.47</td>\n",
       "      <td>-2.0319</td>\n",
       "      <td>17425.09</td>\n",
       "      <td>207961.913</td>\n",
       "    </tr>\n",
       "    <tr>\n",
       "      <th>3</th>\n",
       "      <td>000596.SZ</td>\n",
       "      <td>20190730</td>\n",
       "      <td>120.98</td>\n",
       "      <td>121.80</td>\n",
       "      <td>118.80</td>\n",
       "      <td>121.56</td>\n",
       "      <td>120.81</td>\n",
       "      <td>0.75</td>\n",
       "      <td>0.6208</td>\n",
       "      <td>18817.35</td>\n",
       "      <td>227440.587</td>\n",
       "    </tr>\n",
       "    <tr>\n",
       "      <th>4</th>\n",
       "      <td>000596.SZ</td>\n",
       "      <td>20190729</td>\n",
       "      <td>120.56</td>\n",
       "      <td>121.77</td>\n",
       "      <td>118.80</td>\n",
       "      <td>120.81</td>\n",
       "      <td>120.01</td>\n",
       "      <td>0.80</td>\n",
       "      <td>0.6666</td>\n",
       "      <td>22063.15</td>\n",
       "      <td>266217.713</td>\n",
       "    </tr>\n",
       "    <tr>\n",
       "      <th>5</th>\n",
       "      <td>000596.SZ</td>\n",
       "      <td>20190726</td>\n",
       "      <td>118.50</td>\n",
       "      <td>120.66</td>\n",
       "      <td>118.08</td>\n",
       "      <td>120.01</td>\n",
       "      <td>119.37</td>\n",
       "      <td>0.64</td>\n",
       "      <td>0.5361</td>\n",
       "      <td>14637.73</td>\n",
       "      <td>175162.116</td>\n",
       "    </tr>\n",
       "  </tbody>\n",
       "</table>\n",
       "</div>"
      ],
      "text/plain": [
       "     ts_code trade_date    open    high     low   close  pre_close  change  \\\n",
       "0  000596.SZ   20190802  116.00  119.60  114.14  118.80     117.07    1.73   \n",
       "1  000596.SZ   20190801  118.50  119.40  116.00  117.07     119.09   -2.02   \n",
       "2  000596.SZ   20190731  120.86  122.09  118.48  119.09     121.56   -2.47   \n",
       "3  000596.SZ   20190730  120.98  121.80  118.80  121.56     120.81    0.75   \n",
       "4  000596.SZ   20190729  120.56  121.77  118.80  120.81     120.01    0.80   \n",
       "5  000596.SZ   20190726  118.50  120.66  118.08  120.01     119.37    0.64   \n",
       "\n",
       "   pct_chg       vol      amount  \n",
       "0   1.4777  31726.60  372159.800  \n",
       "1  -1.6962  15420.41  181651.180  \n",
       "2  -2.0319  17425.09  207961.913  \n",
       "3   0.6208  18817.35  227440.587  \n",
       "4   0.6666  22063.15  266217.713  \n",
       "5   0.5361  14637.73  175162.116  "
      ]
     },
     "execution_count": 16,
     "metadata": {},
     "output_type": "execute_result"
    }
   ],
   "source": [
    "DATA.head(6)"
   ]
  },
  {
   "cell_type": "code",
   "execution_count": 20,
   "metadata": {},
   "outputs": [],
   "source": [
    "DATA.to_csv('DATA_HS300.csv')"
   ]
  },
  {
   "cell_type": "markdown",
   "metadata": {},
   "source": [
    "Get data for Benchmark HS300 from the same time period"
   ]
  },
  {
   "cell_type": "code",
   "execution_count": 24,
   "metadata": {},
   "outputs": [],
   "source": [
    "Bench = ts.pro_bar(ts_code='000300.SH', asset='I', start_date='20100101', end_date='20190802')"
   ]
  },
  {
   "cell_type": "code",
   "execution_count": 25,
   "metadata": {},
   "outputs": [
    {
     "data": {
      "text/html": [
       "<div>\n",
       "<style scoped>\n",
       "    .dataframe tbody tr th:only-of-type {\n",
       "        vertical-align: middle;\n",
       "    }\n",
       "\n",
       "    .dataframe tbody tr th {\n",
       "        vertical-align: top;\n",
       "    }\n",
       "\n",
       "    .dataframe thead th {\n",
       "        text-align: right;\n",
       "    }\n",
       "</style>\n",
       "<table border=\"1\" class=\"dataframe\">\n",
       "  <thead>\n",
       "    <tr style=\"text-align: right;\">\n",
       "      <th></th>\n",
       "      <th>ts_code</th>\n",
       "      <th>trade_date</th>\n",
       "      <th>close</th>\n",
       "      <th>open</th>\n",
       "      <th>high</th>\n",
       "      <th>low</th>\n",
       "      <th>pre_close</th>\n",
       "      <th>change</th>\n",
       "      <th>pct_chg</th>\n",
       "      <th>vol</th>\n",
       "      <th>amount</th>\n",
       "    </tr>\n",
       "  </thead>\n",
       "  <tbody>\n",
       "    <tr>\n",
       "      <th>0</th>\n",
       "      <td>000300.SH</td>\n",
       "      <td>20190802</td>\n",
       "      <td>3747.4379</td>\n",
       "      <td>3729.1309</td>\n",
       "      <td>3754.5326</td>\n",
       "      <td>3720.0584</td>\n",
       "      <td>3803.4694</td>\n",
       "      <td>-56.0315</td>\n",
       "      <td>-1.4732</td>\n",
       "      <td>108335897.0</td>\n",
       "      <td>141874787.6</td>\n",
       "    </tr>\n",
       "    <tr>\n",
       "      <th>1</th>\n",
       "      <td>000300.SH</td>\n",
       "      <td>20190801</td>\n",
       "      <td>3803.4694</td>\n",
       "      <td>3819.3242</td>\n",
       "      <td>3831.2641</td>\n",
       "      <td>3791.5460</td>\n",
       "      <td>3835.3589</td>\n",
       "      <td>-31.8895</td>\n",
       "      <td>-0.8315</td>\n",
       "      <td>84114180.0</td>\n",
       "      <td>117649163.9</td>\n",
       "    </tr>\n",
       "    <tr>\n",
       "      <th>2</th>\n",
       "      <td>000300.SH</td>\n",
       "      <td>20190731</td>\n",
       "      <td>3835.3589</td>\n",
       "      <td>3856.7450</td>\n",
       "      <td>3856.7450</td>\n",
       "      <td>3830.0914</td>\n",
       "      <td>3870.3176</td>\n",
       "      <td>-34.9587</td>\n",
       "      <td>-0.9033</td>\n",
       "      <td>82151155.0</td>\n",
       "      <td>111083892.8</td>\n",
       "    </tr>\n",
       "    <tr>\n",
       "      <th>3</th>\n",
       "      <td>000300.SH</td>\n",
       "      <td>20190730</td>\n",
       "      <td>3870.3176</td>\n",
       "      <td>3861.5698</td>\n",
       "      <td>3890.7298</td>\n",
       "      <td>3861.5698</td>\n",
       "      <td>3854.2704</td>\n",
       "      <td>16.0472</td>\n",
       "      <td>0.4163</td>\n",
       "      <td>94123955.0</td>\n",
       "      <td>120480280.0</td>\n",
       "    </tr>\n",
       "    <tr>\n",
       "      <th>4</th>\n",
       "      <td>000300.SH</td>\n",
       "      <td>20190729</td>\n",
       "      <td>3854.2704</td>\n",
       "      <td>3857.9394</td>\n",
       "      <td>3862.7467</td>\n",
       "      <td>3842.4260</td>\n",
       "      <td>3858.5688</td>\n",
       "      <td>-4.2984</td>\n",
       "      <td>-0.1114</td>\n",
       "      <td>84814370.0</td>\n",
       "      <td>111679108.8</td>\n",
       "    </tr>\n",
       "    <tr>\n",
       "      <th>5</th>\n",
       "      <td>000300.SH</td>\n",
       "      <td>20190726</td>\n",
       "      <td>3858.5688</td>\n",
       "      <td>3835.2281</td>\n",
       "      <td>3863.5878</td>\n",
       "      <td>3832.5223</td>\n",
       "      <td>3851.0665</td>\n",
       "      <td>7.5023</td>\n",
       "      <td>0.1948</td>\n",
       "      <td>83259300.0</td>\n",
       "      <td>110929728.7</td>\n",
       "    </tr>\n",
       "  </tbody>\n",
       "</table>\n",
       "</div>"
      ],
      "text/plain": [
       "     ts_code trade_date      close       open       high        low  \\\n",
       "0  000300.SH   20190802  3747.4379  3729.1309  3754.5326  3720.0584   \n",
       "1  000300.SH   20190801  3803.4694  3819.3242  3831.2641  3791.5460   \n",
       "2  000300.SH   20190731  3835.3589  3856.7450  3856.7450  3830.0914   \n",
       "3  000300.SH   20190730  3870.3176  3861.5698  3890.7298  3861.5698   \n",
       "4  000300.SH   20190729  3854.2704  3857.9394  3862.7467  3842.4260   \n",
       "5  000300.SH   20190726  3858.5688  3835.2281  3863.5878  3832.5223   \n",
       "\n",
       "   pre_close   change  pct_chg          vol       amount  \n",
       "0  3803.4694 -56.0315  -1.4732  108335897.0  141874787.6  \n",
       "1  3835.3589 -31.8895  -0.8315   84114180.0  117649163.9  \n",
       "2  3870.3176 -34.9587  -0.9033   82151155.0  111083892.8  \n",
       "3  3854.2704  16.0472   0.4163   94123955.0  120480280.0  \n",
       "4  3858.5688  -4.2984  -0.1114   84814370.0  111679108.8  \n",
       "5  3851.0665   7.5023   0.1948   83259300.0  110929728.7  "
      ]
     },
     "execution_count": 25,
     "metadata": {},
     "output_type": "execute_result"
    }
   ],
   "source": [
    "Bench.head(6)"
   ]
  },
  {
   "cell_type": "code",
   "execution_count": 26,
   "metadata": {},
   "outputs": [],
   "source": [
    "Bench.to_csv('Benchmark_HS300.csv')"
   ]
  },
  {
   "cell_type": "markdown",
   "metadata": {},
   "source": [
    "Get data for P/B and Float MarketValue from the same time period"
   ]
  },
  {
   "cell_type": "code",
   "execution_count": 30,
   "metadata": {},
   "outputs": [],
   "source": [
    "Factor = pd.DataFrame()"
   ]
  },
  {
   "cell_type": "code",
   "execution_count": 32,
   "metadata": {},
   "outputs": [],
   "source": [
    "for i in list300:\n",
    "    df_temp = pro.daily_basic(ts_code=i, start_date='20100101', end_date='20190802', fields='ts_code,trade_date,pb,circ_mv')\n",
    "    Factor = Factor.append(df_temp)"
   ]
  },
  {
   "cell_type": "code",
   "execution_count": 35,
   "metadata": {},
   "outputs": [
    {
     "data": {
      "text/html": [
       "<div>\n",
       "<style scoped>\n",
       "    .dataframe tbody tr th:only-of-type {\n",
       "        vertical-align: middle;\n",
       "    }\n",
       "\n",
       "    .dataframe tbody tr th {\n",
       "        vertical-align: top;\n",
       "    }\n",
       "\n",
       "    .dataframe thead th {\n",
       "        text-align: right;\n",
       "    }\n",
       "</style>\n",
       "<table border=\"1\" class=\"dataframe\">\n",
       "  <thead>\n",
       "    <tr style=\"text-align: right;\">\n",
       "      <th></th>\n",
       "      <th>ts_code</th>\n",
       "      <th>trade_date</th>\n",
       "      <th>pb</th>\n",
       "      <th>circ_mv</th>\n",
       "    </tr>\n",
       "  </thead>\n",
       "  <tbody>\n",
       "    <tr>\n",
       "      <th>0</th>\n",
       "      <td>000596.SZ</td>\n",
       "      <td>20190802</td>\n",
       "      <td>7.8411</td>\n",
       "      <td>4557168.0</td>\n",
       "    </tr>\n",
       "    <tr>\n",
       "      <th>1</th>\n",
       "      <td>000596.SZ</td>\n",
       "      <td>20190801</td>\n",
       "      <td>7.7270</td>\n",
       "      <td>4490805.2</td>\n",
       "    </tr>\n",
       "    <tr>\n",
       "      <th>2</th>\n",
       "      <td>000596.SZ</td>\n",
       "      <td>20190731</td>\n",
       "      <td>7.8603</td>\n",
       "      <td>4568292.4</td>\n",
       "    </tr>\n",
       "    <tr>\n",
       "      <th>3</th>\n",
       "      <td>000596.SZ</td>\n",
       "      <td>20190730</td>\n",
       "      <td>8.0233</td>\n",
       "      <td>4663041.6</td>\n",
       "    </tr>\n",
       "    <tr>\n",
       "      <th>4</th>\n",
       "      <td>000596.SZ</td>\n",
       "      <td>20190729</td>\n",
       "      <td>7.9738</td>\n",
       "      <td>4634271.6</td>\n",
       "    </tr>\n",
       "    <tr>\n",
       "      <th>5</th>\n",
       "      <td>000596.SZ</td>\n",
       "      <td>20190726</td>\n",
       "      <td>7.9210</td>\n",
       "      <td>4603583.6</td>\n",
       "    </tr>\n",
       "  </tbody>\n",
       "</table>\n",
       "</div>"
      ],
      "text/plain": [
       "     ts_code trade_date      pb    circ_mv\n",
       "0  000596.SZ   20190802  7.8411  4557168.0\n",
       "1  000596.SZ   20190801  7.7270  4490805.2\n",
       "2  000596.SZ   20190731  7.8603  4568292.4\n",
       "3  000596.SZ   20190730  8.0233  4663041.6\n",
       "4  000596.SZ   20190729  7.9738  4634271.6\n",
       "5  000596.SZ   20190726  7.9210  4603583.6"
      ]
     },
     "execution_count": 35,
     "metadata": {},
     "output_type": "execute_result"
    }
   ],
   "source": [
    "Factor.head(6)"
   ]
  },
  {
   "cell_type": "code",
   "execution_count": 36,
   "metadata": {},
   "outputs": [],
   "source": [
    "Factor.to_csv('DATA_HS300_Factors.csv')"
   ]
  },
  {
   "cell_type": "markdown",
   "metadata": {},
   "source": [
    "Get Daily Overnight Shibor during the same time period as risk-free InterestRate Return"
   ]
  },
  {
   "cell_type": "code",
   "execution_count": 37,
   "metadata": {},
   "outputs": [],
   "source": [
    "IR = pro.shibor(start_date='20100101', end_date='20190802', fields='date,on')"
   ]
  },
  {
   "cell_type": "code",
   "execution_count": 38,
   "metadata": {},
   "outputs": [
    {
     "data": {
      "text/html": [
       "<div>\n",
       "<style scoped>\n",
       "    .dataframe tbody tr th:only-of-type {\n",
       "        vertical-align: middle;\n",
       "    }\n",
       "\n",
       "    .dataframe tbody tr th {\n",
       "        vertical-align: top;\n",
       "    }\n",
       "\n",
       "    .dataframe thead th {\n",
       "        text-align: right;\n",
       "    }\n",
       "</style>\n",
       "<table border=\"1\" class=\"dataframe\">\n",
       "  <thead>\n",
       "    <tr style=\"text-align: right;\">\n",
       "      <th></th>\n",
       "      <th>date</th>\n",
       "      <th>on</th>\n",
       "    </tr>\n",
       "  </thead>\n",
       "  <tbody>\n",
       "    <tr>\n",
       "      <th>0</th>\n",
       "      <td>20190802</td>\n",
       "      <td>2.634</td>\n",
       "    </tr>\n",
       "    <tr>\n",
       "      <th>1</th>\n",
       "      <td>20190801</td>\n",
       "      <td>2.634</td>\n",
       "    </tr>\n",
       "    <tr>\n",
       "      <th>2</th>\n",
       "      <td>20190731</td>\n",
       "      <td>2.642</td>\n",
       "    </tr>\n",
       "    <tr>\n",
       "      <th>3</th>\n",
       "      <td>20190730</td>\n",
       "      <td>2.621</td>\n",
       "    </tr>\n",
       "    <tr>\n",
       "      <th>4</th>\n",
       "      <td>20190729</td>\n",
       "      <td>2.629</td>\n",
       "    </tr>\n",
       "    <tr>\n",
       "      <th>5</th>\n",
       "      <td>20190726</td>\n",
       "      <td>2.636</td>\n",
       "    </tr>\n",
       "  </tbody>\n",
       "</table>\n",
       "</div>"
      ],
      "text/plain": [
       "       date     on\n",
       "0  20190802  2.634\n",
       "1  20190801  2.634\n",
       "2  20190731  2.642\n",
       "3  20190730  2.621\n",
       "4  20190729  2.629\n",
       "5  20190726  2.636"
      ]
     },
     "execution_count": 38,
     "metadata": {},
     "output_type": "execute_result"
    }
   ],
   "source": [
    "IR.head(6)"
   ]
  },
  {
   "cell_type": "code",
   "execution_count": 43,
   "metadata": {},
   "outputs": [],
   "source": [
    "IR.on = IR.on /360"
   ]
  },
  {
   "cell_type": "code",
   "execution_count": 44,
   "metadata": {},
   "outputs": [],
   "source": [
    "IR.to_csv('DATA_InterestRate.csv')"
   ]
  },
  {
   "cell_type": "code",
   "execution_count": null,
   "metadata": {},
   "outputs": [],
   "source": []
  }
 ],
 "metadata": {
  "kernelspec": {
   "display_name": "Python 3",
   "language": "python",
   "name": "python3"
  },
  "language_info": {
   "codemirror_mode": {
    "name": "ipython",
    "version": 3
   },
   "file_extension": ".py",
   "mimetype": "text/x-python",
   "name": "python",
   "nbconvert_exporter": "python",
   "pygments_lexer": "ipython3",
   "version": "3.7.3"
  }
 },
 "nbformat": 4,
 "nbformat_minor": 2
}
